{
  "nbformat": 4,
  "nbformat_minor": 0,
  "metadata": {
    "colab": {
      "name": "Unet.ipynb",
      "provenance": [],
      "collapsed_sections": [],
      "machine_shape": "hm",
      "include_colab_link": true
    },
    "kernelspec": {
      "name": "python3",
      "display_name": "Python 3"
    },
    "accelerator": "TPU"
  },
  "cells": [
    {
      "cell_type": "markdown",
      "metadata": {
        "id": "view-in-github",
        "colab_type": "text"
      },
      "source": [
        "<a href=\"https://colab.research.google.com/github/Lyndon-Huang/numberThy/blob/main/Unet/Unet.ipynb\" target=\"_parent\"><img src=\"https://colab.research.google.com/assets/colab-badge.svg\" alt=\"Open In Colab\"/></a>"
      ]
    },
    {
      "cell_type": "code",
      "metadata": {
        "id": "hoPGcFGDepjY"
      },
      "source": [
        "import os\n",
        "import random\n",
        "import numpy as np\n",
        "import matplotlib\n",
        "matplotlib.use('agg')\n",
        "import matplotlib.pyplot as plt\n",
        "\n",
        "plt.style.use(\"ggplot\")\n",
        "%matplotlib inline\n",
        "\n",
        "from tqdm import tqdm_notebook, tnrange\n",
        "from itertools import chain\n",
        "from skimage.io import imread, imshow, imread_collection, concatenate_images\n",
        "from skimage.transform import resize\n",
        "from skimage.morphology import label\n",
        "from keras.utils import np_utils\n",
        "from keras.models import Model, load_model\n",
        "from keras.layers.core import Dropout, Lambda\n",
        "from keras.layers.convolutional import Conv2D, Conv2DTranspose\n",
        "from keras.layers.merge import concatenate\n",
        "from keras.callbacks import EarlyStopping, ModelCheckpoint\n",
        "from keras import backend as K\n",
        "import tensorflow as tf\n",
        "import cv2\n",
        "\n",
        "from keras.layers import Input, BatchNormalization, Activation, Dense, Dropout\n",
        "from keras.layers.core import Lambda, RepeatVector, Reshape\n",
        "from keras.layers.pooling import MaxPooling2D, GlobalMaxPool2D\n",
        "from keras.layers.merge import concatenate, add\n",
        "from keras.callbacks import EarlyStopping, ModelCheckpoint, ReduceLROnPlateau\n",
        "from keras.optimizers import Adam\n",
        "from keras.preprocessing.image import ImageDataGenerator, array_to_img, img_to_array, load_img\n",
        "from keras import optimizers\n",
        "from cv2 import imshow"
      ],
      "execution_count": null,
      "outputs": []
    },
    {
      "cell_type": "code",
      "metadata": {
        "id": "nIwRrVxsCVmB",
        "colab": {
          "base_uri": "https://localhost:8080/",
          "height": 34
        },
        "outputId": "c0cd9fea-0b2a-4240-cca4-69e66b47c065"
      },
      "source": [
        "from google.colab import drive\n",
        "drive.mount('/content/drive')"
      ],
      "execution_count": null,
      "outputs": [
        {
          "output_type": "stream",
          "text": [
            "Drive already mounted at /content/drive; to attempt to forcibly remount, call drive.mount(\"/content/drive\", force_remount=True).\n"
          ],
          "name": "stdout"
        }
      ]
    },
    {
      "cell_type": "code",
      "metadata": {
        "id": "JcyK4EltnoeG",
        "colab": {
          "base_uri": "https://localhost:8080/",
          "height": 72
        },
        "outputId": "bc8da76d-7776-4f56-af23-faa4ddb905ef"
      },
      "source": [
        "# Set some parameters\n",
        "IMG_WIDTH = 256\n",
        "IMG_HEIGHT = 256\n",
        "IMG_CHANNELS = 1\n",
        "SEG_IMG_CHANNELS = 4\n",
        "\n",
        "TRAIN_PATH = 'drive/My Drive/Colab Notebooks/keras_png_slices_data/keras_png_slices_train'#enter path to training data\n",
        "TEST_PATH = 'drive/My Drive/Colab Notebooks/keras_png_slices_data/keras_png_slices_test'#enter path to testing data\n",
        "VALIDATE_PATH = 'drive/My Drive/Colab Notebooks/keras_png_slices_data/keras_png_slices_validate'\n",
        "\n",
        "SEG_TRAIN_PATH = 'drive/My Drive/Colab Notebooks/keras_png_slices_data/keras_png_slices_seg_train'#enter path to training data\n",
        "SEG_TEST_PATH = 'drive/My Drive/Colab Notebooks/keras_png_slices_data/keras_png_slices_seg_test'#enter path to testing data\n",
        "SEG_VALIDATE_PATH = 'drive/My Drive/Colab Notebooks/keras_png_slices_data/keras_png_slices_seg_validate'\n",
        "\n",
        "# Get train and IDs\n",
        "x_train_ids = next(os.walk(TRAIN_PATH))[2]\n",
        "x_train_ids.sort()\n",
        "x_train_ids = x_train_ids[:544]\n",
        "x_test_ids = next(os.walk(TEST_PATH))[2]\n",
        "x_test_ids.sort()\n",
        "x_test_ids = x_test_ids[:544]\n",
        "x_vaildate_ids = next(os.walk(VALIDATE_PATH))[2]\n",
        "x_vaildate_ids.sort()\n",
        "x_vaildate_ids = x_vaildate_ids[:544]\n",
        "\n",
        "y_train_ids = next(os.walk(SEG_TRAIN_PATH))[2]\n",
        "y_train_ids.sort()\n",
        "y_train_ids = y_train_ids[:544]\n",
        "y_test_ids = next(os.walk(SEG_TEST_PATH))[2]\n",
        "y_test_ids.sort()\n",
        "y_test_ids = y_test_ids[:544]\n",
        "y_vaildate_ids = next(os.walk(SEG_VALIDATE_PATH))[2]\n",
        "y_vaildate_ids.sort()\n",
        "y_vaildate_ids = y_vaildate_ids[:544]\n",
        "\n"
      ],
      "execution_count": null,
      "outputs": [
        {
          "output_type": "stream",
          "text": [
            "['case_001_slice_0.nii.png', 'case_001_slice_1.nii.png', 'case_001_slice_10.nii.png', 'case_001_slice_11.nii.png', 'case_001_slice_12.nii.png', 'case_001_slice_13.nii.png', 'case_001_slice_14.nii.png', 'case_001_slice_15.nii.png', 'case_001_slice_16.nii.png', 'case_001_slice_17.nii.png', 'case_001_slice_18.nii.png', 'case_001_slice_19.nii.png', 'case_001_slice_2.nii.png', 'case_001_slice_20.nii.png', 'case_001_slice_21.nii.png', 'case_001_slice_22.nii.png', 'case_001_slice_23.nii.png', 'case_001_slice_24.nii.png', 'case_001_slice_25.nii.png', 'case_001_slice_26.nii.png', 'case_001_slice_27.nii.png', 'case_001_slice_28.nii.png', 'case_001_slice_29.nii.png', 'case_001_slice_3.nii.png', 'case_001_slice_30.nii.png', 'case_001_slice_31.nii.png', 'case_001_slice_4.nii.png', 'case_001_slice_5.nii.png', 'case_001_slice_6.nii.png', 'case_001_slice_7.nii.png', 'case_001_slice_8.nii.png', 'case_001_slice_9.nii.png', 'case_002_slice_0.nii.png', 'case_002_slice_1.nii.png', 'case_002_slice_10.nii.png', 'case_002_slice_11.nii.png', 'case_002_slice_12.nii.png', 'case_002_slice_13.nii.png', 'case_002_slice_14.nii.png', 'case_002_slice_15.nii.png', 'case_002_slice_16.nii.png', 'case_002_slice_17.nii.png', 'case_002_slice_18.nii.png', 'case_002_slice_19.nii.png', 'case_002_slice_2.nii.png', 'case_002_slice_20.nii.png', 'case_002_slice_21.nii.png', 'case_002_slice_22.nii.png', 'case_002_slice_23.nii.png', 'case_002_slice_24.nii.png', 'case_002_slice_25.nii.png', 'case_002_slice_26.nii.png', 'case_002_slice_27.nii.png', 'case_002_slice_28.nii.png', 'case_002_slice_29.nii.png', 'case_002_slice_3.nii.png', 'case_002_slice_30.nii.png', 'case_002_slice_31.nii.png', 'case_002_slice_4.nii.png', 'case_002_slice_5.nii.png', 'case_002_slice_6.nii.png', 'case_002_slice_7.nii.png', 'case_002_slice_8.nii.png', 'case_002_slice_9.nii.png', 'case_003_slice_0.nii.png', 'case_003_slice_1.nii.png', 'case_003_slice_10.nii.png', 'case_003_slice_11.nii.png', 'case_003_slice_12.nii.png', 'case_003_slice_13.nii.png', 'case_003_slice_14.nii.png', 'case_003_slice_15.nii.png', 'case_003_slice_16.nii.png', 'case_003_slice_17.nii.png', 'case_003_slice_18.nii.png', 'case_003_slice_19.nii.png', 'case_003_slice_2.nii.png', 'case_003_slice_20.nii.png', 'case_003_slice_21.nii.png', 'case_003_slice_22.nii.png', 'case_003_slice_23.nii.png', 'case_003_slice_24.nii.png', 'case_003_slice_25.nii.png', 'case_003_slice_26.nii.png', 'case_003_slice_27.nii.png', 'case_003_slice_28.nii.png', 'case_003_slice_29.nii.png', 'case_003_slice_3.nii.png', 'case_003_slice_30.nii.png', 'case_003_slice_31.nii.png', 'case_003_slice_4.nii.png', 'case_003_slice_5.nii.png', 'case_003_slice_6.nii.png', 'case_003_slice_7.nii.png', 'case_003_slice_8.nii.png', 'case_003_slice_9.nii.png', 'case_004_slice_0.nii.png', 'case_004_slice_1.nii.png', 'case_004_slice_10.nii.png', 'case_004_slice_11.nii.png', 'case_004_slice_12.nii.png', 'case_004_slice_13.nii.png', 'case_004_slice_14.nii.png', 'case_004_slice_15.nii.png', 'case_004_slice_16.nii.png', 'case_004_slice_17.nii.png', 'case_004_slice_18.nii.png', 'case_004_slice_19.nii.png', 'case_004_slice_2.nii.png', 'case_004_slice_20.nii.png', 'case_004_slice_21.nii.png', 'case_004_slice_22.nii.png', 'case_004_slice_23.nii.png', 'case_004_slice_24.nii.png', 'case_004_slice_25.nii.png', 'case_004_slice_26.nii.png', 'case_004_slice_27.nii.png', 'case_004_slice_28.nii.png', 'case_004_slice_29.nii.png', 'case_004_slice_3.nii.png', 'case_004_slice_30.nii.png', 'case_004_slice_31.nii.png', 'case_004_slice_4.nii.png', 'case_004_slice_5.nii.png', 'case_004_slice_6.nii.png', 'case_004_slice_7.nii.png', 'case_004_slice_8.nii.png', 'case_004_slice_9.nii.png', 'case_005_slice_0.nii.png', 'case_005_slice_1.nii.png', 'case_005_slice_10.nii.png', 'case_005_slice_11.nii.png', 'case_005_slice_12.nii.png', 'case_005_slice_13.nii.png', 'case_005_slice_14.nii.png', 'case_005_slice_15.nii.png', 'case_005_slice_16.nii.png', 'case_005_slice_17.nii.png', 'case_005_slice_18.nii.png', 'case_005_slice_19.nii.png', 'case_005_slice_2.nii.png', 'case_005_slice_20.nii.png', 'case_005_slice_21.nii.png', 'case_005_slice_22.nii.png', 'case_005_slice_23.nii.png', 'case_005_slice_24.nii.png', 'case_005_slice_25.nii.png', 'case_005_slice_26.nii.png', 'case_005_slice_27.nii.png', 'case_005_slice_28.nii.png', 'case_005_slice_29.nii.png', 'case_005_slice_3.nii.png', 'case_005_slice_30.nii.png', 'case_005_slice_31.nii.png', 'case_005_slice_4.nii.png', 'case_005_slice_5.nii.png', 'case_005_slice_6.nii.png', 'case_005_slice_7.nii.png', 'case_005_slice_8.nii.png', 'case_005_slice_9.nii.png', 'case_006_slice_0.nii.png', 'case_006_slice_1.nii.png', 'case_006_slice_10.nii.png', 'case_006_slice_11.nii.png', 'case_006_slice_12.nii.png', 'case_006_slice_13.nii.png', 'case_006_slice_14.nii.png', 'case_006_slice_15.nii.png', 'case_006_slice_16.nii.png', 'case_006_slice_17.nii.png', 'case_006_slice_18.nii.png', 'case_006_slice_19.nii.png', 'case_006_slice_2.nii.png', 'case_006_slice_20.nii.png', 'case_006_slice_21.nii.png', 'case_006_slice_22.nii.png', 'case_006_slice_23.nii.png', 'case_006_slice_24.nii.png', 'case_006_slice_25.nii.png', 'case_006_slice_26.nii.png', 'case_006_slice_27.nii.png', 'case_006_slice_28.nii.png', 'case_006_slice_29.nii.png', 'case_006_slice_3.nii.png', 'case_006_slice_30.nii.png', 'case_006_slice_31.nii.png', 'case_006_slice_4.nii.png', 'case_006_slice_5.nii.png', 'case_006_slice_6.nii.png', 'case_006_slice_7.nii.png', 'case_006_slice_8.nii.png', 'case_006_slice_9.nii.png', 'case_007_slice_0.nii.png', 'case_007_slice_1.nii.png', 'case_007_slice_10.nii.png', 'case_007_slice_11.nii.png', 'case_007_slice_12.nii.png', 'case_007_slice_13.nii.png', 'case_007_slice_14.nii.png', 'case_007_slice_15.nii.png', 'case_007_slice_16.nii.png', 'case_007_slice_17.nii.png', 'case_007_slice_18.nii.png', 'case_007_slice_19.nii.png', 'case_007_slice_2.nii.png', 'case_007_slice_20.nii.png', 'case_007_slice_21.nii.png', 'case_007_slice_22.nii.png', 'case_007_slice_23.nii.png', 'case_007_slice_24.nii.png', 'case_007_slice_25.nii.png', 'case_007_slice_26.nii.png', 'case_007_slice_27.nii.png', 'case_007_slice_28.nii.png', 'case_007_slice_29.nii.png', 'case_007_slice_3.nii.png', 'case_007_slice_30.nii.png', 'case_007_slice_31.nii.png', 'case_007_slice_4.nii.png', 'case_007_slice_5.nii.png', 'case_007_slice_6.nii.png', 'case_007_slice_7.nii.png', 'case_007_slice_8.nii.png', 'case_007_slice_9.nii.png', 'case_009_slice_0.nii.png', 'case_009_slice_1.nii.png', 'case_009_slice_10.nii.png', 'case_009_slice_11.nii.png', 'case_009_slice_12.nii.png', 'case_009_slice_13.nii.png', 'case_009_slice_14.nii.png', 'case_009_slice_15.nii.png', 'case_009_slice_16.nii.png', 'case_009_slice_17.nii.png', 'case_009_slice_18.nii.png', 'case_009_slice_19.nii.png', 'case_009_slice_2.nii.png', 'case_009_slice_20.nii.png', 'case_009_slice_21.nii.png', 'case_009_slice_22.nii.png', 'case_009_slice_23.nii.png', 'case_009_slice_24.nii.png', 'case_009_slice_25.nii.png', 'case_009_slice_26.nii.png', 'case_009_slice_27.nii.png', 'case_009_slice_28.nii.png', 'case_009_slice_29.nii.png', 'case_009_slice_3.nii.png', 'case_009_slice_30.nii.png', 'case_009_slice_31.nii.png', 'case_009_slice_4.nii.png', 'case_009_slice_5.nii.png', 'case_009_slice_6.nii.png', 'case_009_slice_7.nii.png', 'case_009_slice_8.nii.png', 'case_009_slice_9.nii.png', 'case_010_slice_0.nii.png', 'case_010_slice_1.nii.png', 'case_010_slice_10.nii.png', 'case_010_slice_11.nii.png', 'case_010_slice_12.nii.png', 'case_010_slice_13.nii.png', 'case_010_slice_14.nii.png', 'case_010_slice_15.nii.png', 'case_010_slice_16.nii.png', 'case_010_slice_17.nii.png', 'case_010_slice_18.nii.png', 'case_010_slice_19.nii.png', 'case_010_slice_2.nii.png', 'case_010_slice_20.nii.png', 'case_010_slice_21.nii.png', 'case_010_slice_22.nii.png', 'case_010_slice_23.nii.png', 'case_010_slice_24.nii.png', 'case_010_slice_25.nii.png', 'case_010_slice_26.nii.png', 'case_010_slice_27.nii.png', 'case_010_slice_28.nii.png', 'case_010_slice_29.nii.png', 'case_010_slice_3.nii.png', 'case_010_slice_30.nii.png', 'case_010_slice_31.nii.png', 'case_010_slice_4.nii.png', 'case_010_slice_5.nii.png', 'case_010_slice_6.nii.png', 'case_010_slice_7.nii.png', 'case_010_slice_8.nii.png', 'case_010_slice_9.nii.png', 'case_011_slice_0.nii.png', 'case_011_slice_1.nii.png', 'case_011_slice_10.nii.png', 'case_011_slice_11.nii.png', 'case_011_slice_12.nii.png', 'case_011_slice_13.nii.png', 'case_011_slice_14.nii.png', 'case_011_slice_15.nii.png', 'case_011_slice_16.nii.png', 'case_011_slice_17.nii.png', 'case_011_slice_18.nii.png', 'case_011_slice_19.nii.png', 'case_011_slice_2.nii.png', 'case_011_slice_20.nii.png', 'case_011_slice_21.nii.png', 'case_011_slice_22.nii.png', 'case_011_slice_23.nii.png', 'case_011_slice_24.nii.png', 'case_011_slice_25.nii.png', 'case_011_slice_26.nii.png', 'case_011_slice_27.nii.png', 'case_011_slice_28.nii.png', 'case_011_slice_29.nii.png', 'case_011_slice_3.nii.png', 'case_011_slice_30.nii.png', 'case_011_slice_31.nii.png', 'case_011_slice_4.nii.png', 'case_011_slice_5.nii.png', 'case_011_slice_6.nii.png', 'case_011_slice_7.nii.png', 'case_011_slice_8.nii.png', 'case_011_slice_9.nii.png', 'case_012_slice_0.nii.png', 'case_012_slice_1.nii.png', 'case_012_slice_10.nii.png', 'case_012_slice_11.nii.png', 'case_012_slice_12.nii.png', 'case_012_slice_13.nii.png', 'case_012_slice_14.nii.png', 'case_012_slice_15.nii.png', 'case_012_slice_16.nii.png', 'case_012_slice_17.nii.png', 'case_012_slice_18.nii.png', 'case_012_slice_19.nii.png', 'case_012_slice_2.nii.png', 'case_012_slice_20.nii.png', 'case_012_slice_21.nii.png', 'case_012_slice_22.nii.png', 'case_012_slice_23.nii.png', 'case_012_slice_24.nii.png', 'case_012_slice_25.nii.png', 'case_012_slice_26.nii.png', 'case_012_slice_27.nii.png', 'case_012_slice_28.nii.png', 'case_012_slice_29.nii.png', 'case_012_slice_3.nii.png', 'case_012_slice_30.nii.png', 'case_012_slice_31.nii.png', 'case_012_slice_4.nii.png', 'case_012_slice_5.nii.png', 'case_012_slice_6.nii.png', 'case_012_slice_7.nii.png', 'case_012_slice_8.nii.png', 'case_012_slice_9.nii.png', 'case_013_slice_0.nii.png', 'case_013_slice_1.nii.png', 'case_013_slice_10.nii.png', 'case_013_slice_11.nii.png', 'case_013_slice_12.nii.png', 'case_013_slice_13.nii.png', 'case_013_slice_14.nii.png', 'case_013_slice_15.nii.png', 'case_013_slice_16.nii.png', 'case_013_slice_17.nii.png', 'case_013_slice_18.nii.png', 'case_013_slice_19.nii.png', 'case_013_slice_2.nii.png', 'case_013_slice_20.nii.png', 'case_013_slice_21.nii.png', 'case_013_slice_22.nii.png', 'case_013_slice_23.nii.png', 'case_013_slice_24.nii.png', 'case_013_slice_25.nii.png', 'case_013_slice_26.nii.png', 'case_013_slice_27.nii.png', 'case_013_slice_28.nii.png', 'case_013_slice_29.nii.png', 'case_013_slice_3.nii.png', 'case_013_slice_30.nii.png', 'case_013_slice_31.nii.png', 'case_013_slice_4.nii.png', 'case_013_slice_5.nii.png', 'case_013_slice_6.nii.png', 'case_013_slice_7.nii.png', 'case_013_slice_8.nii.png', 'case_013_slice_9.nii.png', 'case_014_slice_0.nii.png', 'case_014_slice_1.nii.png', 'case_014_slice_10.nii.png', 'case_014_slice_11.nii.png', 'case_014_slice_12.nii.png', 'case_014_slice_13.nii.png', 'case_014_slice_14.nii.png', 'case_014_slice_15.nii.png', 'case_014_slice_16.nii.png', 'case_014_slice_17.nii.png', 'case_014_slice_18.nii.png', 'case_014_slice_19.nii.png', 'case_014_slice_2.nii.png', 'case_014_slice_20.nii.png', 'case_014_slice_21.nii.png', 'case_014_slice_22.nii.png', 'case_014_slice_23.nii.png', 'case_014_slice_24.nii.png', 'case_014_slice_25.nii.png', 'case_014_slice_26.nii.png', 'case_014_slice_27.nii.png', 'case_014_slice_28.nii.png', 'case_014_slice_29.nii.png', 'case_014_slice_3.nii.png', 'case_014_slice_30.nii.png', 'case_014_slice_31.nii.png', 'case_014_slice_4.nii.png', 'case_014_slice_5.nii.png', 'case_014_slice_6.nii.png', 'case_014_slice_7.nii.png', 'case_014_slice_8.nii.png', 'case_014_slice_9.nii.png', 'case_015_slice_0.nii.png', 'case_015_slice_1.nii.png', 'case_015_slice_10.nii.png', 'case_015_slice_11.nii.png', 'case_015_slice_12.nii.png', 'case_015_slice_13.nii.png', 'case_015_slice_14.nii.png', 'case_015_slice_15.nii.png', 'case_015_slice_16.nii.png', 'case_015_slice_17.nii.png', 'case_015_slice_18.nii.png', 'case_015_slice_19.nii.png', 'case_015_slice_2.nii.png', 'case_015_slice_20.nii.png', 'case_015_slice_21.nii.png', 'case_015_slice_22.nii.png', 'case_015_slice_23.nii.png', 'case_015_slice_24.nii.png', 'case_015_slice_25.nii.png', 'case_015_slice_26.nii.png', 'case_015_slice_27.nii.png', 'case_015_slice_28.nii.png', 'case_015_slice_29.nii.png', 'case_015_slice_3.nii.png', 'case_015_slice_30.nii.png', 'case_015_slice_31.nii.png', 'case_015_slice_4.nii.png', 'case_015_slice_5.nii.png', 'case_015_slice_6.nii.png', 'case_015_slice_7.nii.png', 'case_015_slice_8.nii.png', 'case_015_slice_9.nii.png', 'case_016_slice_0.nii.png', 'case_016_slice_1.nii.png', 'case_016_slice_10.nii.png', 'case_016_slice_11.nii.png', 'case_016_slice_12.nii.png', 'case_016_slice_13.nii.png', 'case_016_slice_14.nii.png', 'case_016_slice_15.nii.png', 'case_016_slice_16.nii.png', 'case_016_slice_17.nii.png', 'case_016_slice_18.nii.png', 'case_016_slice_19.nii.png', 'case_016_slice_2.nii.png', 'case_016_slice_20.nii.png', 'case_016_slice_21.nii.png', 'case_016_slice_22.nii.png', 'case_016_slice_23.nii.png', 'case_016_slice_24.nii.png', 'case_016_slice_25.nii.png', 'case_016_slice_26.nii.png', 'case_016_slice_27.nii.png', 'case_016_slice_28.nii.png', 'case_016_slice_29.nii.png', 'case_016_slice_3.nii.png', 'case_016_slice_30.nii.png', 'case_016_slice_31.nii.png', 'case_016_slice_4.nii.png', 'case_016_slice_5.nii.png', 'case_016_slice_6.nii.png', 'case_016_slice_7.nii.png', 'case_016_slice_8.nii.png', 'case_016_slice_9.nii.png', 'case_017_slice_0.nii.png', 'case_017_slice_1.nii.png', 'case_017_slice_10.nii.png', 'case_017_slice_11.nii.png', 'case_017_slice_12.nii.png', 'case_017_slice_13.nii.png', 'case_017_slice_14.nii.png', 'case_017_slice_15.nii.png', 'case_017_slice_16.nii.png', 'case_017_slice_17.nii.png', 'case_017_slice_18.nii.png', 'case_017_slice_19.nii.png', 'case_017_slice_2.nii.png', 'case_017_slice_20.nii.png', 'case_017_slice_21.nii.png', 'case_017_slice_22.nii.png', 'case_017_slice_23.nii.png', 'case_017_slice_24.nii.png', 'case_017_slice_25.nii.png', 'case_017_slice_26.nii.png', 'case_017_slice_27.nii.png', 'case_017_slice_28.nii.png', 'case_017_slice_29.nii.png', 'case_017_slice_3.nii.png', 'case_017_slice_30.nii.png', 'case_017_slice_31.nii.png', 'case_017_slice_4.nii.png', 'case_017_slice_5.nii.png', 'case_017_slice_6.nii.png', 'case_017_slice_7.nii.png', 'case_017_slice_8.nii.png', 'case_017_slice_9.nii.png', 'case_018_slice_0.nii.png', 'case_018_slice_1.nii.png', 'case_018_slice_10.nii.png', 'case_018_slice_11.nii.png', 'case_018_slice_12.nii.png', 'case_018_slice_13.nii.png', 'case_018_slice_14.nii.png', 'case_018_slice_15.nii.png', 'case_018_slice_16.nii.png', 'case_018_slice_17.nii.png', 'case_018_slice_18.nii.png', 'case_018_slice_19.nii.png', 'case_018_slice_2.nii.png', 'case_018_slice_20.nii.png', 'case_018_slice_21.nii.png', 'case_018_slice_22.nii.png', 'case_018_slice_23.nii.png', 'case_018_slice_24.nii.png', 'case_018_slice_25.nii.png', 'case_018_slice_26.nii.png', 'case_018_slice_27.nii.png', 'case_018_slice_28.nii.png', 'case_018_slice_29.nii.png', 'case_018_slice_3.nii.png', 'case_018_slice_30.nii.png', 'case_018_slice_31.nii.png', 'case_018_slice_4.nii.png', 'case_018_slice_5.nii.png', 'case_018_slice_6.nii.png', 'case_018_slice_7.nii.png', 'case_018_slice_8.nii.png', 'case_018_slice_9.nii.png']\n",
            "544\n"
          ],
          "name": "stdout"
        }
      ]
    },
    {
      "cell_type": "code",
      "metadata": {
        "id": "tAELxOruEFeX"
      },
      "source": [
        "def load_img(x):\n",
        "  image = cv2.imread(x,cv2.IMREAD_GRAYSCALE)\n",
        "  image = image.reshape(image.shape + (1,))\n",
        "  image = (image - image.mean())/image.std()\n",
        "  return image\n",
        "\n",
        "def load_mask(x):\n",
        "  mask = cv2.imread(x,cv2.IMREAD_GRAYSCALE)\n",
        "  classes = np.unique(mask)\n",
        "  res = np.zeros(mask.shape + (len(classes),))\n",
        "  for i in range(len(classes)):\n",
        "    c = classes[i]\n",
        "    res[:,:,i][mask == c] = 1\n",
        "  return res"
      ],
      "execution_count": null,
      "outputs": []
    },
    {
      "cell_type": "code",
      "metadata": {
        "id": "pBerCbe2D6en"
      },
      "source": [
        "# Get and resize train images and masks\n",
        "x_train = np.zeros((544, IMG_HEIGHT, IMG_WIDTH, IMG_CHANNELS), dtype=np.float32)\n",
        "x_test = np.zeros((544, IMG_HEIGHT, IMG_WIDTH, IMG_CHANNELS), dtype=np.float32)\n",
        "x_validate = np.zeros((544, IMG_HEIGHT, IMG_WIDTH, IMG_CHANNELS), dtype=np.float32)\n",
        "\n",
        "y_train = np.zeros((544, IMG_HEIGHT, IMG_WIDTH, SEG_IMG_CHANNELS), dtype=np.float32)\n",
        "y_test = np.zeros((544, IMG_HEIGHT, IMG_WIDTH, SEG_IMG_CHANNELS), dtype=np.float32)\n",
        "y_validate = np.zeros((544, IMG_HEIGHT, IMG_WIDTH, SEG_IMG_CHANNELS), dtype=np.float32)\n"
      ],
      "execution_count": null,
      "outputs": []
    },
    {
      "cell_type": "code",
      "metadata": {
        "id": "neOw-zIvHI7q",
        "colab": {
          "base_uri": "https://localhost:8080/",
          "height": 70
        },
        "outputId": "2dc5b9a0-6d5b-4aa0-929a-78b9c55e7677"
      },
      "source": [
        "print('start')\n",
        "for i in range(len(x_train_ids)):\n",
        "  x_train[i] = load_img(TRAIN_PATH + \"/\" + x_train_ids[i])\n",
        "for i in range(len(x_test_ids)):\n",
        "  x_test[i] = load_img(TEST_PATH + \"/\" + x_test_ids[i])\n",
        "for i in range(len(x_vaildate_ids)):\n",
        "  x_validate[i] = load_img(VALIDATE_PATH + \"/\" + x_vaildate_ids[i])\n",
        "\n",
        "for i in range(len(y_train_ids)):\n",
        "  y_train[i] = load_mask(SEG_TRAIN_PATH + \"/\" + y_train_ids[i])\n",
        "for i in range(len(y_test_ids)):\n",
        "  y_test[i] = load_mask(SEG_TEST_PATH + \"/\" + y_test_ids[i])\n",
        "for i in range(len(y_vaildate_ids)):\n",
        "  y_validate[i] = load_mask(SEG_VALIDATE_PATH + \"/\" + y_vaildate_ids[i])\n",
        "print(\"done!\")\n",
        "print(y_train.shape)"
      ],
      "execution_count": null,
      "outputs": [
        {
          "output_type": "stream",
          "text": [
            "start\n",
            "done!\n",
            "(544, 256, 256, 4)\n"
          ],
          "name": "stdout"
        }
      ]
    },
    {
      "cell_type": "code",
      "metadata": {
        "id": "Y31jOuhZXiwQ",
        "colab": {
          "base_uri": "https://localhost:8080/",
          "height": 1000
        },
        "outputId": "bd301edd-b33d-425c-f92b-c86ca501d91f"
      },
      "source": [
        "from google.colab.patches import cv2_imshow\n",
        "_,_,c= y_train[0].shape\n",
        "print(c)\n",
        "for i in range(c):\n",
        "  s = y_train[0][:,:,i]\n",
        "  s[s == 1] = 255\n",
        "  cv2_imshow(s)"
      ],
      "execution_count": null,
      "outputs": [
        {
          "output_type": "stream",
          "text": [
            "4\n"
          ],
          "name": "stdout"
        },
        {
          "output_type": "display_data",
          "data": {
            "image/png": "[encoded data removed]",
            "text/plain": [
              "<PIL.Image.Image image mode=L size=256x256 at 0x7FED0CE60160>"
            ]
          },
          "metadata": {
            "tags": []
          }
        },
        {
          "output_type": "display_data",
          "data": {
            "image/png": "[encoded data removed]",
            "text/plain": [
              "<PIL.Image.Image image mode=L size=256x256 at 0x7FED0CE60240>"
            ]
          },
          "metadata": {
            "tags": []
          }
        },
        {
          "output_type": "display_data",
          "data": {
            "image/png": "[encoded data removed]",
            "text/plain": [
              "<PIL.Image.Image image mode=L size=256x256 at 0x7FED0CE60160>"
            ]
          },
          "metadata": {
            "tags": []
          }
        },
        {
          "output_type": "display_data",
          "data": {
            "image/png": "[encoded data removed]",
            "text/plain": [
              "<PIL.Image.Image image mode=L size=256x256 at 0x7FED0CE60240>"
            ]
          },
          "metadata": {
            "tags": []
          }
        }
      ]
    },
    {
      "cell_type": "code",
      "metadata": {
        "id": "I1jw09WPWK4z"
      },
      "source": [
        "#random.shuffle(x_train)\n",
        "#random.shuffle(y_train)"
      ],
      "execution_count": null,
      "outputs": []
    },
    {
      "cell_type": "code",
      "metadata": {
        "id": "9e4Dekz5dYZJ",
        "colab": {
          "base_uri": "https://localhost:8080/",
          "height": 129
        },
        "outputId": "4b5a1cd8-ab96-45b0-90ce-d66da0864b57"
      },
      "source": [
        "print(\"X_train\",x_train.shape)\n",
        "print(\"x_test\",x_test.shape)\n",
        "print(\"x_validate\",x_validate.shape)\n",
        "print(\"----------------------------------\")\n",
        "print(\"y_train\",y_train.shape)\n",
        "print(\"y_test\",y_test.shape)\n",
        "print(\"y_validate\",y_validate.shape)\n"
      ],
      "execution_count": null,
      "outputs": [
        {
          "output_type": "stream",
          "text": [
            "X_train (544, 256, 256, 1)\n",
            "x_test (544, 256, 256, 1)\n",
            "x_validate (544, 256, 256, 1)\n",
            "----------------------------------\n",
            "y_train (544, 256, 256, 4)\n",
            "y_test (544, 256, 256, 4)\n",
            "y_validate (544, 256, 256, 4)\n"
          ],
          "name": "stdout"
        }
      ]
    },
    {
      "cell_type": "code",
      "metadata": {
        "id": "hKQv_HVQT7uP",
        "colab": {
          "base_uri": "https://localhost:8080/",
          "height": 34
        },
        "outputId": "caa003e5-1be6-4bc4-e400-71b786761907"
      },
      "source": [
        "x_train = np.array(x_train)\n",
        "y_train = np.array(y_train)\n",
        "x_test = np.array(x_test)\n",
        "y_test = np.array(y_test)\n",
        "print(y_train.shape)"
      ],
      "execution_count": null,
      "outputs": [
        {
          "output_type": "stream",
          "text": [
            "(544, 256, 256, 4)\n"
          ],
          "name": "stdout"
        }
      ]
    },
    {
      "cell_type": "code",
      "metadata": {
        "id": "WswBipRqq0uB",
        "colab": {
          "base_uri": "https://localhost:8080/",
          "height": 1000
        },
        "outputId": "e0da87ce-65c7-4230-f4c8-70d88ccc278d"
      },
      "source": [
        "# Build U-Net model\n",
        "inputs = Input((IMG_HEIGHT, IMG_WIDTH, IMG_CHANNELS))\n",
        "\n",
        "c1 = Conv2D(16, (3, 3), activation='elu', kernel_initializer='he_normal', padding='same') (inputs)\n",
        "c1 = Conv2D(16, (3, 3), activation='elu', kernel_initializer='he_normal', padding='same') (c1)\n",
        "p1 = MaxPooling2D((2, 2)) (c1)\n",
        "\n",
        "c2 = Conv2D(32, (3, 3), activation='elu', kernel_initializer='he_normal', padding='same') (p1)\n",
        "c2 = Conv2D(32, (3, 3), activation='elu', kernel_initializer='he_normal', padding='same') (c2)\n",
        "p2 = MaxPooling2D((2, 2)) (c2)\n",
        "\n",
        "c3 = Conv2D(64, (3, 3), activation='elu', kernel_initializer='he_normal', padding='same') (p2)\n",
        "c3 = Conv2D(64, (3, 3), activation='elu', kernel_initializer='he_normal', padding='same') (c3)\n",
        "p3 = MaxPooling2D((2, 2)) (c3)\n",
        "\n",
        "c4 = Conv2D(128, (3, 3), activation='elu', kernel_initializer='he_normal', padding='same') (p3)\n",
        "c4 = Conv2D(128, (3, 3), activation='elu', kernel_initializer='he_normal', padding='same') (c4)\n",
        "p4 = MaxPooling2D(pool_size=(2, 2)) (c4)\n",
        "\n",
        "c5 = Conv2D(256, (3, 3), activation='elu', kernel_initializer='he_normal', padding='same') (p4)\n",
        "c5 = Conv2D(256, (3, 3), activation='elu', kernel_initializer='he_normal', padding='same') (c5)\n",
        "\n",
        "u6 = Conv2DTranspose(128, (2, 2), strides=(2, 2), padding='same') (c5)\n",
        "u6 = concatenate([u6, c4])\n",
        "c6 = Conv2D(128, (3, 3), activation='elu', kernel_initializer='he_normal', padding='same') (u6)\n",
        "c6 = Conv2D(128, (3, 3), activation='elu', kernel_initializer='he_normal', padding='same') (c6)\n",
        "\n",
        "u7 = Conv2DTranspose(64, (2, 2), strides=(2, 2), padding='same') (c6)\n",
        "u7 = concatenate([u7, c3])\n",
        "c7 = Conv2D(64, (3, 3), activation='elu', kernel_initializer='he_normal', padding='same') (u7)\n",
        "c7 = Conv2D(64, (3, 3), activation='elu', kernel_initializer='he_normal', padding='same') (c7)\n",
        "\n",
        "u8 = Conv2DTranspose(32, (2, 2), strides=(2, 2), padding='same') (c7)\n",
        "u8 = concatenate([u8, c2])\n",
        "c8 = Conv2D(32, (3, 3), activation='elu', kernel_initializer='he_normal', padding='same') (u8)\n",
        "c8 = Conv2D(32, (3, 3), activation='elu', kernel_initializer='he_normal', padding='same') (c8)\n",
        "\n",
        "u9 = Conv2DTranspose(16, (2, 2), strides=(2, 2), padding='same') (c8)\n",
        "u9 = concatenate([u9, c1], axis=3)\n",
        "c9 = Conv2D(16, (3, 3), activation='elu', kernel_initializer='he_normal', padding='same') (u9)\n",
        "c9 = Conv2D(16, (3, 3), activation='elu', kernel_initializer='he_normal', padding='same') (c9)\n",
        "\n",
        "outputs = Conv2D(4, (1, 1), activation='softmax') (c9)\n",
        "\n",
        "\n",
        "model = Model(inputs=[inputs], outputs=[outputs])\n",
        "model.compile(optimizer='adam', loss='categorical_crossentropy', metrics=['accuracy'])\n",
        "model.summary()"
      ],
      "execution_count": null,
      "outputs": [
        {
          "output_type": "stream",
          "text": [
            "Model: \"functional_3\"\n",
            "__________________________________________________________________________________________________\n",
            "Layer (type)                    Output Shape         Param #     Connected to                     \n",
            "==================================================================================================\n",
            "input_2 (InputLayer)            [(None, 256, 256, 1) 0                                            \n",
            "__________________________________________________________________________________________________\n",
            "conv2d_19 (Conv2D)              (None, 256, 256, 16) 160         input_2[0][0]                    \n",
            "__________________________________________________________________________________________________\n",
            "conv2d_20 (Conv2D)              (None, 256, 256, 16) 2320        conv2d_19[0][0]                  \n",
            "__________________________________________________________________________________________________\n",
            "max_pooling2d_4 (MaxPooling2D)  (None, 128, 128, 16) 0           conv2d_20[0][0]                  \n",
            "__________________________________________________________________________________________________\n",
            "conv2d_21 (Conv2D)              (None, 128, 128, 32) 4640        max_pooling2d_4[0][0]            \n",
            "__________________________________________________________________________________________________\n",
            "conv2d_22 (Conv2D)              (None, 128, 128, 32) 9248        conv2d_21[0][0]                  \n",
            "__________________________________________________________________________________________________\n",
            "max_pooling2d_5 (MaxPooling2D)  (None, 64, 64, 32)   0           conv2d_22[0][0]                  \n",
            "__________________________________________________________________________________________________\n",
            "conv2d_23 (Conv2D)              (None, 64, 64, 64)   18496       max_pooling2d_5[0][0]            \n",
            "__________________________________________________________________________________________________\n",
            "conv2d_24 (Conv2D)              (None, 64, 64, 64)   36928       conv2d_23[0][0]                  \n",
            "__________________________________________________________________________________________________\n",
            "max_pooling2d_6 (MaxPooling2D)  (None, 32, 32, 64)   0           conv2d_24[0][0]                  \n",
            "__________________________________________________________________________________________________\n",
            "conv2d_25 (Conv2D)              (None, 32, 32, 128)  73856       max_pooling2d_6[0][0]            \n",
            "__________________________________________________________________________________________________\n",
            "conv2d_26 (Conv2D)              (None, 32, 32, 128)  147584      conv2d_25[0][0]                  \n",
            "__________________________________________________________________________________________________\n",
            "max_pooling2d_7 (MaxPooling2D)  (None, 16, 16, 128)  0           conv2d_26[0][0]                  \n",
            "__________________________________________________________________________________________________\n",
            "conv2d_27 (Conv2D)              (None, 16, 16, 256)  295168      max_pooling2d_7[0][0]            \n",
            "__________________________________________________________________________________________________\n",
            "conv2d_28 (Conv2D)              (None, 16, 16, 256)  590080      conv2d_27[0][0]                  \n",
            "__________________________________________________________________________________________________\n",
            "conv2d_transpose_4 (Conv2DTrans (None, 32, 32, 128)  131200      conv2d_28[0][0]                  \n",
            "__________________________________________________________________________________________________\n",
            "concatenate_4 (Concatenate)     (None, 32, 32, 256)  0           conv2d_transpose_4[0][0]         \n",
            "                                                                 conv2d_26[0][0]                  \n",
            "__________________________________________________________________________________________________\n",
            "conv2d_29 (Conv2D)              (None, 32, 32, 128)  295040      concatenate_4[0][0]              \n",
            "__________________________________________________________________________________________________\n",
            "conv2d_30 (Conv2D)              (None, 32, 32, 128)  147584      conv2d_29[0][0]                  \n",
            "__________________________________________________________________________________________________\n",
            "conv2d_transpose_5 (Conv2DTrans (None, 64, 64, 64)   32832       conv2d_30[0][0]                  \n",
            "__________________________________________________________________________________________________\n",
            "concatenate_5 (Concatenate)     (None, 64, 64, 128)  0           conv2d_transpose_5[0][0]         \n",
            "                                                                 conv2d_24[0][0]                  \n",
            "__________________________________________________________________________________________________\n",
            "conv2d_31 (Conv2D)              (None, 64, 64, 64)   73792       concatenate_5[0][0]              \n",
            "__________________________________________________________________________________________________\n",
            "conv2d_32 (Conv2D)              (None, 64, 64, 64)   36928       conv2d_31[0][0]                  \n",
            "__________________________________________________________________________________________________\n",
            "conv2d_transpose_6 (Conv2DTrans (None, 128, 128, 32) 8224        conv2d_32[0][0]                  \n",
            "__________________________________________________________________________________________________\n",
            "concatenate_6 (Concatenate)     (None, 128, 128, 64) 0           conv2d_transpose_6[0][0]         \n",
            "                                                                 conv2d_22[0][0]                  \n",
            "__________________________________________________________________________________________________\n",
            "conv2d_33 (Conv2D)              (None, 128, 128, 32) 18464       concatenate_6[0][0]              \n",
            "__________________________________________________________________________________________________\n",
            "conv2d_34 (Conv2D)              (None, 128, 128, 32) 9248        conv2d_33[0][0]                  \n",
            "__________________________________________________________________________________________________\n",
            "conv2d_transpose_7 (Conv2DTrans (None, 256, 256, 16) 2064        conv2d_34[0][0]                  \n",
            "__________________________________________________________________________________________________\n",
            "concatenate_7 (Concatenate)     (None, 256, 256, 32) 0           conv2d_transpose_7[0][0]         \n",
            "                                                                 conv2d_20[0][0]                  \n",
            "__________________________________________________________________________________________________\n",
            "conv2d_35 (Conv2D)              (None, 256, 256, 16) 4624        concatenate_7[0][0]              \n",
            "__________________________________________________________________________________________________\n",
            "conv2d_36 (Conv2D)              (None, 256, 256, 16) 2320        conv2d_35[0][0]                  \n",
            "__________________________________________________________________________________________________\n",
            "conv2d_37 (Conv2D)              (None, 256, 256, 4)  68          conv2d_36[0][0]                  \n",
            "==================================================================================================\n",
            "Total params: 1,940,868\n",
            "Trainable params: 1,940,868\n",
            "Non-trainable params: 0\n",
            "__________________________________________________________________________________________________\n"
          ],
          "name": "stdout"
        }
      ]
    },
    {
      "cell_type": "code",
      "metadata": {
        "id": "kVMOtn8wesv3"
      },
      "source": [
        "callbacks = [\n",
        "    EarlyStopping(patience=10, verbose=1),\n",
        "    ReduceLROnPlateau(factor=0.1, patience=3, min_lr=0.0001, verbose=1)\n",
        "]"
      ],
      "execution_count": null,
      "outputs": []
    },
    {
      "cell_type": "code",
      "metadata": {
        "id": "PVZA_312nBWg",
        "colab": {
          "base_uri": "https://localhost:8080/",
          "height": 369
        },
        "outputId": "05f194cd-27df-447f-d494-24224b98466e"
      },
      "source": [
        "history = model.fit(x_train, y_train, batch_size=32, epochs=5,callbacks = callbacks,shuffle=True,\n",
        "                    validation_data=(x_validate, y_validate))"
      ],
      "execution_count": null,
      "outputs": [
        {
          "output_type": "stream",
          "text": [
            "Epoch 1/10\n",
            "17/17 [==============================] - 70s 4s/step - loss: 0.7189 - accuracy: 0.7811 - val_loss: 0.3197 - val_accuracy: 0.8839\n",
            "Epoch 2/10\n",
            "17/17 [==============================] - 69s 4s/step - loss: 0.3093 - accuracy: 0.9238 - val_loss: 0.1441 - val_accuracy: 0.9497\n",
            "Epoch 3/10\n",
            "17/17 [==============================] - 69s 4s/step - loss: 0.2250 - accuracy: 0.9342 - val_loss: 0.1656 - val_accuracy: 0.9400\n",
            "Epoch 4/10\n",
            "17/17 [==============================] - 69s 4s/step - loss: 0.1930 - accuracy: 0.9456 - val_loss: 0.1144 - val_accuracy: 0.9571\n",
            "Epoch 5/10\n",
            "17/17 [==============================] - 69s 4s/step - loss: 0.1936 - accuracy: 0.9445 - val_loss: 0.1354 - val_accuracy: 0.9467\n",
            "Epoch 6/10\n",
            "17/17 [==============================] - 72s 4s/step - loss: 0.1378 - accuracy: 0.9630 - val_loss: 0.0907 - val_accuracy: 0.9645\n",
            "Epoch 7/10\n",
            "17/17 [==============================] - 69s 4s/step - loss: 0.1620 - accuracy: 0.9503 - val_loss: 0.1068 - val_accuracy: 0.9586\n",
            "Epoch 8/10\n",
            "17/17 [==============================] - 69s 4s/step - loss: 0.1460 - accuracy: 0.9572 - val_loss: 0.0960 - val_accuracy: 0.9627\n",
            "Epoch 9/10\n",
            "17/17 [==============================] - 70s 4s/step - loss: 0.1271 - accuracy: 0.9625 - val_loss: 0.0870 - val_accuracy: 0.9646\n",
            "Epoch 10/10\n",
            "17/17 [==============================] - 69s 4s/step - loss: 0.1082 - accuracy: 0.9686 - val_loss: 0.0861 - val_accuracy: 0.9639\n"
          ],
          "name": "stdout"
        }
      ]
    },
    {
      "cell_type": "code",
      "metadata": {
        "id": "KTWm9Os9nDuI",
        "colab": {
          "base_uri": "https://localhost:8080/",
          "height": 1000
        },
        "outputId": "af57eeed-90d2-4409-eeba-f3a0f4d6c7d4"
      },
      "source": [
        "plt.figure(figsize=(8, 8))\n",
        "plt.title(\"Learning curve\")\n",
        "plt.plot(history.history[\"loss\"], label=\"loss\")\n",
        "plt.plot(history.history[\"val_loss\"], label=\"val_loss\")\n",
        "plt.plot( np.argmin(history.history[\"val_loss\"]), np.min(history.history[\"val_loss\"]), marker=\"x\", color=\"r\", label=\"best model\")\n",
        "plt.xlabel(\"Epochs\")\n",
        "plt.ylabel(\"log_loss\")\n",
        "plt.legend();\n",
        "\n",
        "plt.figure(figsize=(8, 8))\n",
        "plt.title('Model accuracy')\n",
        "plt.plot(history.history[\"accuracy\"], label=\"Accuracy\")\n",
        "plt.plot(history.history[\"val_accuracy\"], label=\"val_Accuracy\")\n",
        "plt.plot( np.argmin(history.history[\"val_accuracy\"]), np.max(history.history[\"val_accuracy\"]), marker=\"x\", color=\"r\", label=\"best model\")\n",
        "plt.xlabel(\"Epochs\")\n",
        "plt.ylabel(\"Accuracy\")\n",
        "plt.legend();"
      ],
      "execution_count": null,
      "outputs": [
        {
          "output_type": "display_data",
          "data": {
            "image/png": "[encoded data removed]",
            "text/plain": [
              "<Figure size 576x576 with 1 Axes>"
            ]
          },
          "metadata": {
            "tags": [],
            "needs_background": "light"
          }
        },
        {
          "output_type": "display_data",
          "data": {
            "image/png": "[encoded data removed]",
            "text/plain": [
              "<Figure size 576x576 with 1 Axes>"
            ]
          },
          "metadata": {
            "tags": [],
            "needs_background": "light"
          }
        }
      ]
    },
    {
      "cell_type": "code",
      "metadata": {
        "id": "RWDOf9lCGuKe",
        "colab": {
          "base_uri": "https://localhost:8080/",
          "height": 140
        },
        "outputId": "6e5d24a4-d537-4950-c9ef-04d8166b617d"
      },
      "source": [
        "print('\\nTesting ------------')\n",
        "# Evaluate the cifar with the metrics we defined earlier\n",
        "loss, accuracy = model.evaluate(x_test, y_test)\n",
        "\n",
        "print('\\ntest loss: ', loss)\n",
        "print('\\ntest accuracy: ', accuracy)"
      ],
      "execution_count": null,
      "outputs": [
        {
          "output_type": "stream",
          "text": [
            "\n",
            "Testing ------------\n",
            "17/17 [==============================] - 8s 442ms/step - loss: 0.0959 - accuracy: 0.9596\n",
            "\n",
            "test loss:  0.09591839462518692\n",
            "\n",
            "test accuracy:  0.9596028327941895\n"
          ],
          "name": "stdout"
        }
      ]
    },
    {
      "cell_type": "code",
      "metadata": {
        "id": "zGzt1IzhnGyX",
        "colab": {
          "base_uri": "https://localhost:8080/",
          "height": 70
        },
        "outputId": "c0597c52-9f2d-47b3-e010-775e4688ad67"
      },
      "source": [
        "# Predict on train, val and test\n",
        "preds_train = model.predict(x_train, verbose=1)\n",
        "preds_val = model.predict(x_validate, verbose=1)\n",
        "preds_test = model.predict(x_test,verbose=1)\n",
        "\n",
        "# Threshold predictions\n",
        "preds_train_t = (preds_train > 0.5).astype(np.float32)\n",
        "preds_val_t = (preds_val > 0.5).astype(np.float32)\n",
        "preds_test_t = (preds_test > 0.5).astype(np.float32)"
      ],
      "execution_count": null,
      "outputs": [
        {
          "output_type": "stream",
          "text": [
            "17/17 [==============================] - 7s 434ms/step\n",
            "17/17 [==============================] - 7s 432ms/step\n",
            "17/17 [==============================] - 7s 422ms/step\n"
          ],
          "name": "stdout"
        }
      ]
    },
    {
      "cell_type": "code",
      "metadata": {
        "id": "Uvy0gfLFooJQ",
        "colab": {
          "base_uri": "https://localhost:8080/",
          "height": 1000
        },
        "outputId": "96293eca-a30a-4ab5-e258-fd00c27ed5c9"
      },
      "source": [
        "_,_,c= preds_test_t[0].shape\n",
        "for i in range(c):\n",
        "  s = preds_test_t[0][:,:,i]\n",
        "  s[s == 1] = 255\n",
        "  cv2_imshow(s)"
      ],
      "execution_count": null,
      "outputs": [
        {
          "output_type": "display_data",
          "data": {
            "image/png": "[encoded data removed]",
            "text/plain": [
              "<PIL.Image.Image image mode=L size=256x256 at 0x7FED0A7B7240>"
            ]
          },
          "metadata": {
            "tags": []
          }
        },
        {
          "output_type": "display_data",
          "data": {
            "image/png": "[encoded data removed]",
            "text/plain": [
              "<PIL.Image.Image image mode=L size=256x256 at 0x7FED0A7B79B0>"
            ]
          },
          "metadata": {
            "tags": []
          }
        },
        {
          "output_type": "display_data",
          "data": {
            "image/png": "[encoded data removed]",
            "text/plain": [
              "<PIL.Image.Image image mode=L size=256x256 at 0x7FED0A7B7240>"
            ]
          },
          "metadata": {
            "tags": []
          }
        },
        {
          "output_type": "display_data",
          "data": {
            "image/png": "[encoded data removed]",
            "text/plain": [
              "<PIL.Image.Image image mode=L size=256x256 at 0x7FED0A7B79B0>"
            ]
          },
          "metadata": {
            "tags": []
          }
        }
      ]
    },
    {
      "cell_type": "code",
      "metadata": {
        "id": "IJfqwinreE4I",
        "colab": {
          "base_uri": "https://localhost:8080/",
          "height": 1000
        },
        "outputId": "f3f25998-b389-42a9-fb61-1278228e4bf7"
      },
      "source": [
        "_,_,c= preds_train_t[0].shape\n",
        "for i in range(c):\n",
        "  s = preds_train_t[0][:,:,i]\n",
        "  s[s == 1] = 255\n",
        "  cv2_imshow(s)"
      ],
      "execution_count": null,
      "outputs": [
        {
          "output_type": "display_data",
          "data": {
            "image/png": "[encoded data removed]",
            "text/plain": [
              "<PIL.Image.Image image mode=L size=256x256 at 0x7FED0A871C88>"
            ]
          },
          "metadata": {
            "tags": []
          }
        },
        {
          "output_type": "display_data",
          "data": {
            "image/png": "[encoded data removed]",
            "text/plain": [
              "<PIL.Image.Image image mode=L size=256x256 at 0x7FED0A871710>"
            ]
          },
          "metadata": {
            "tags": []
          }
        },
        {
          "output_type": "display_data",
          "data": {
            "image/png": "[encoded data removed]",
            "text/plain": [
              "<PIL.Image.Image image mode=L size=256x256 at 0x7FED0A871C88>"
            ]
          },
          "metadata": {
            "tags": []
          }
        },
        {
          "output_type": "display_data",
          "data": {
            "image/png": "[encoded data removed]",
            "text/plain": [
              "<PIL.Image.Image image mode=L size=256x256 at 0x7FED0A871710>"
            ]
          },
          "metadata": {
            "tags": []
          }
        }
      ]
    },
    {
      "cell_type": "code",
      "metadata": {
        "id": "NUu8Phsrdr1j",
        "colab": {
          "base_uri": "https://localhost:8080/",
          "height": 1000
        },
        "outputId": "446dbf97-d19b-44c1-f547-07871fc000f6"
      },
      "source": [
        "_,_,c= preds_val_t[0].shape\n",
        "for i in range(c):\n",
        "  s = preds_val_t[0][:,:,i]\n",
        "  s[s == 1] = 255\n",
        "  cv2_imshow(s)"
      ],
      "execution_count": null,
      "outputs": [
        {
          "output_type": "display_data",
          "data": {
            "image/png": "[encoded data removed]",
            "text/plain": [
              "<PIL.Image.Image image mode=L size=256x256 at 0x7FED0A824BA8>"
            ]
          },
          "metadata": {
            "tags": []
          }
        },
        {
          "output_type": "display_data",
          "data": {
            "image/png": "[encoded data removed]",
            "text/plain": [
              "<PIL.Image.Image image mode=L size=256x256 at 0x7FED0A8246A0>"
            ]
          },
          "metadata": {
            "tags": []
          }
        },
        {
          "output_type": "display_data",
          "data": {
            "image/png": "[encoded data removed]",
            "text/plain": [
              "<PIL.Image.Image image mode=L size=256x256 at 0x7FED0A824BA8>"
            ]
          },
          "metadata": {
            "tags": []
          }
        },
        {
          "output_type": "display_data",
          "data": {
            "image/png": "[encoded data removed]",
            "text/plain": [
              "<PIL.Image.Image image mode=L size=256x256 at 0x7FED0A8246A0>"
            ]
          },
          "metadata": {
            "tags": []
          }
        }
      ]
    }
  ]
}